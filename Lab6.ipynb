{
 "cells": [
  {
   "cell_type": "markdown",
   "metadata": {},
   "source": [
    "# Lab 6 - Data Visualization with Seaborn"
   ]
  },
  {
   "cell_type": "code",
   "execution_count": 129,
   "metadata": {},
   "outputs": [],
   "source": [
    "import pandas as pd\n",
    "import matplotlib.pyplot as plt\n",
    "import matplotlib.patches as mp\n",
    "import seaborn as sns\n",
    "import numpy as np\n",
    "pd.set_option('display.max_rows', None)\n",
    "pd.set_option('display.max_columns', None)"
   ]
  },
  {
   "cell_type": "markdown",
   "metadata": {},
   "source": [
    "## NFL Offense Data"
   ]
  },
  {
   "cell_type": "markdown",
   "metadata": {},
   "source": [
    "1. Import the NFL week 3-7 data and add a week column to dataset and set the value to the given week (e.g. 3 )for all rows from that week. Combine the weekly dataframes by adding the dataframes together row-wise. Next, merge the division and abbreviation data to this dataframe so that the division and conference info is included (using  team_colors_logos.csv or nfl_teams.csv)."
   ]
  },
  {
   "cell_type": "code",
   "execution_count": 130,
   "metadata": {},
   "outputs": [
    {
     "data": {
      "text/html": [
       "<div>\n",
       "<style scoped>\n",
       "    .dataframe tbody tr th:only-of-type {\n",
       "        vertical-align: middle;\n",
       "    }\n",
       "\n",
       "    .dataframe tbody tr th {\n",
       "        vertical-align: top;\n",
       "    }\n",
       "\n",
       "    .dataframe thead th {\n",
       "        text-align: right;\n",
       "    }\n",
       "</style>\n",
       "<table border=\"1\" class=\"dataframe\">\n",
       "  <thead>\n",
       "    <tr style=\"text-align: right;\">\n",
       "      <th></th>\n",
       "      <th>ID</th>\n",
       "      <th>team</th>\n",
       "      <th>Abbreviation</th>\n",
       "      <th>Conference</th>\n",
       "      <th>Division</th>\n",
       "    </tr>\n",
       "  </thead>\n",
       "  <tbody>\n",
       "    <tr>\n",
       "      <th>0</th>\n",
       "      <td>1</td>\n",
       "      <td>Arizona Cardinals</td>\n",
       "      <td>ARI</td>\n",
       "      <td>NFC</td>\n",
       "      <td>West</td>\n",
       "    </tr>\n",
       "    <tr>\n",
       "      <th>1</th>\n",
       "      <td>2</td>\n",
       "      <td>Atlanta Falcons</td>\n",
       "      <td>ATL</td>\n",
       "      <td>NFC</td>\n",
       "      <td>South</td>\n",
       "    </tr>\n",
       "    <tr>\n",
       "      <th>2</th>\n",
       "      <td>3</td>\n",
       "      <td>Baltimore Ravens</td>\n",
       "      <td>BAL</td>\n",
       "      <td>AFC</td>\n",
       "      <td>North</td>\n",
       "    </tr>\n",
       "    <tr>\n",
       "      <th>3</th>\n",
       "      <td>4</td>\n",
       "      <td>Buffalo Bills</td>\n",
       "      <td>BUF</td>\n",
       "      <td>AFC</td>\n",
       "      <td>East</td>\n",
       "    </tr>\n",
       "    <tr>\n",
       "      <th>4</th>\n",
       "      <td>5</td>\n",
       "      <td>Carolina Panthers</td>\n",
       "      <td>CAR</td>\n",
       "      <td>NFC</td>\n",
       "      <td>South</td>\n",
       "    </tr>\n",
       "  </tbody>\n",
       "</table>\n",
       "</div>"
      ],
      "text/plain": [
       "   ID               team Abbreviation Conference Division\n",
       "0   1  Arizona Cardinals          ARI        NFC     West\n",
       "1   2    Atlanta Falcons          ATL        NFC    South\n",
       "2   3   Baltimore Ravens          BAL        AFC    North\n",
       "3   4      Buffalo Bills          BUF        AFC     East\n",
       "4   5  Carolina Panthers          CAR        NFC    South"
      ]
     },
     "execution_count": 130,
     "metadata": {},
     "output_type": "execute_result"
    }
   ],
   "source": [
    "df = pd.read_csv(\"nfloffenseweek3.csv\")\n",
    "nfl = pd.read_csv(\"nfl_teams.csv\")\n",
    "df.head()\n",
    "nfl.head()"
   ]
  },
  {
   "cell_type": "code",
   "execution_count": 131,
   "metadata": {},
   "outputs": [],
   "source": [
    "week_3 = pd.read_csv(\"nfloffenseweek3.csv\")\n",
    "week_4 = pd.read_csv(\"nfloffenseweek4.csv\")\n",
    "week_5 = pd.read_csv(\"nfloffenseweek5.csv\")\n",
    "week_6 = pd.read_csv(\"nfloffenseweek6.csv\")\n",
    "week_7 = pd.read_csv(\"nfloffenseweek7.csv\")"
   ]
  },
  {
   "cell_type": "code",
   "execution_count": 164,
   "metadata": {},
   "outputs": [],
   "source": [
    "week_3[\"week\"] = 3\n",
    "week_4[\"week\"] = 4\n",
    "week_5[\"week\"] = 5\n",
    "week_6[\"week\"] = 6\n",
    "week_7[\"week\"] = 7"
   ]
  },
  {
   "cell_type": "code",
   "execution_count": 165,
   "metadata": {},
   "outputs": [],
   "source": [
    "weeks = pd.concat( [week_3, week_4, week_5, week_6, week_7] )"
   ]
  },
  {
   "cell_type": "code",
   "execution_count": 134,
   "metadata": {},
   "outputs": [
    {
     "data": {
      "text/html": [
       "<div>\n",
       "<style scoped>\n",
       "    .dataframe tbody tr th:only-of-type {\n",
       "        vertical-align: middle;\n",
       "    }\n",
       "\n",
       "    .dataframe tbody tr th {\n",
       "        vertical-align: top;\n",
       "    }\n",
       "\n",
       "    .dataframe thead th {\n",
       "        text-align: right;\n",
       "    }\n",
       "</style>\n",
       "<table border=\"1\" class=\"dataframe\">\n",
       "  <thead>\n",
       "    <tr style=\"text-align: right;\">\n",
       "      <th></th>\n",
       "      <th>team</th>\n",
       "      <th>Abbreviation</th>\n",
       "      <th>Conference</th>\n",
       "      <th>Division</th>\n",
       "    </tr>\n",
       "  </thead>\n",
       "  <tbody>\n",
       "    <tr>\n",
       "      <th>0</th>\n",
       "      <td>Arizona Cardinals</td>\n",
       "      <td>ARI</td>\n",
       "      <td>NFC</td>\n",
       "      <td>West</td>\n",
       "    </tr>\n",
       "    <tr>\n",
       "      <th>1</th>\n",
       "      <td>Atlanta Falcons</td>\n",
       "      <td>ATL</td>\n",
       "      <td>NFC</td>\n",
       "      <td>South</td>\n",
       "    </tr>\n",
       "    <tr>\n",
       "      <th>2</th>\n",
       "      <td>Baltimore Ravens</td>\n",
       "      <td>BAL</td>\n",
       "      <td>AFC</td>\n",
       "      <td>North</td>\n",
       "    </tr>\n",
       "    <tr>\n",
       "      <th>3</th>\n",
       "      <td>Buffalo Bills</td>\n",
       "      <td>BUF</td>\n",
       "      <td>AFC</td>\n",
       "      <td>East</td>\n",
       "    </tr>\n",
       "    <tr>\n",
       "      <th>4</th>\n",
       "      <td>Carolina Panthers</td>\n",
       "      <td>CAR</td>\n",
       "      <td>NFC</td>\n",
       "      <td>South</td>\n",
       "    </tr>\n",
       "  </tbody>\n",
       "</table>\n",
       "</div>"
      ],
      "text/plain": [
       "                team Abbreviation Conference Division\n",
       "0  Arizona Cardinals          ARI        NFC     West\n",
       "1    Atlanta Falcons          ATL        NFC    South\n",
       "2   Baltimore Ravens          BAL        AFC    North\n",
       "3      Buffalo Bills          BUF        AFC     East\n",
       "4  Carolina Panthers          CAR        NFC    South"
      ]
     },
     "execution_count": 134,
     "metadata": {},
     "output_type": "execute_result"
    }
   ],
   "source": [
    "nfl.drop(\"ID\", axis=1, inplace=True)\n",
    "nfl.head()"
   ]
  },
  {
   "cell_type": "code",
   "execution_count": 167,
   "metadata": {},
   "outputs": [
    {
     "data": {
      "text/html": [
       "<div>\n",
       "<style scoped>\n",
       "    .dataframe tbody tr th:only-of-type {\n",
       "        vertical-align: middle;\n",
       "    }\n",
       "\n",
       "    .dataframe tbody tr th {\n",
       "        vertical-align: top;\n",
       "    }\n",
       "\n",
       "    .dataframe thead th {\n",
       "        text-align: right;\n",
       "    }\n",
       "</style>\n",
       "<table border=\"1\" class=\"dataframe\">\n",
       "  <thead>\n",
       "    <tr style=\"text-align: right;\">\n",
       "      <th></th>\n",
       "      <th>week</th>\n",
       "      <th>rank</th>\n",
       "      <th>team</th>\n",
       "      <th>games</th>\n",
       "      <th>points_scored</th>\n",
       "      <th>total_yards</th>\n",
       "      <th>offensive_plays</th>\n",
       "      <th>yards_per_play</th>\n",
       "      <th>turnovers_lost</th>\n",
       "      <th>fumbles_lost</th>\n",
       "      <th>1st_downs</th>\n",
       "      <th>passes_completed</th>\n",
       "      <th>passes_attempted</th>\n",
       "      <th>passing_yards</th>\n",
       "      <th>passing_touchdowns</th>\n",
       "      <th>passing_interceptions</th>\n",
       "      <th>net_yards_per_pass_attempt</th>\n",
       "      <th>passing_1st_downs</th>\n",
       "      <th>rushing_attempts</th>\n",
       "      <th>rushing_yards</th>\n",
       "      <th>rushing_touchdowns</th>\n",
       "      <th>rushing_yards_per_attempt</th>\n",
       "      <th>rushing_1st_downs</th>\n",
       "      <th>penalties</th>\n",
       "      <th>penalty_yards</th>\n",
       "      <th>1st_down_penalties</th>\n",
       "      <th>percentage_scoring_drives</th>\n",
       "      <th>percentage_turnover_drives</th>\n",
       "      <th>expected_points</th>\n",
       "      <th>Abbreviation</th>\n",
       "      <th>Conference</th>\n",
       "      <th>Division</th>\n",
       "    </tr>\n",
       "  </thead>\n",
       "  <tbody>\n",
       "    <tr>\n",
       "      <th>0</th>\n",
       "      <td>3</td>\n",
       "      <td>1</td>\n",
       "      <td>Baltimore Ravens</td>\n",
       "      <td>3</td>\n",
       "      <td>99</td>\n",
       "      <td>1141</td>\n",
       "      <td>166</td>\n",
       "      <td>6.9</td>\n",
       "      <td>3</td>\n",
       "      <td>1</td>\n",
       "      <td>55</td>\n",
       "      <td>56</td>\n",
       "      <td>88</td>\n",
       "      <td>735</td>\n",
       "      <td>10</td>\n",
       "      <td>2</td>\n",
       "      <td>7.8</td>\n",
       "      <td>32</td>\n",
       "      <td>72</td>\n",
       "      <td>406</td>\n",
       "      <td>2</td>\n",
       "      <td>5.6</td>\n",
       "      <td>18</td>\n",
       "      <td>8</td>\n",
       "      <td>44</td>\n",
       "      <td>5</td>\n",
       "      <td>42.9</td>\n",
       "      <td>8.6</td>\n",
       "      <td>35.63</td>\n",
       "      <td>BAL</td>\n",
       "      <td>AFC</td>\n",
       "      <td>North</td>\n",
       "    </tr>\n",
       "    <tr>\n",
       "      <th>1</th>\n",
       "      <td>4</td>\n",
       "      <td>3</td>\n",
       "      <td>Baltimore Ravens</td>\n",
       "      <td>4</td>\n",
       "      <td>119</td>\n",
       "      <td>1437</td>\n",
       "      <td>230</td>\n",
       "      <td>6.2</td>\n",
       "      <td>5</td>\n",
       "      <td>1</td>\n",
       "      <td>77</td>\n",
       "      <td>76</td>\n",
       "      <td>117</td>\n",
       "      <td>869</td>\n",
       "      <td>11</td>\n",
       "      <td>4</td>\n",
       "      <td>7.0</td>\n",
       "      <td>39</td>\n",
       "      <td>105</td>\n",
       "      <td>568</td>\n",
       "      <td>3</td>\n",
       "      <td>5.4</td>\n",
       "      <td>31</td>\n",
       "      <td>17</td>\n",
       "      <td>114</td>\n",
       "      <td>7</td>\n",
       "      <td>42.2</td>\n",
       "      <td>11.1</td>\n",
       "      <td>32.97</td>\n",
       "      <td>BAL</td>\n",
       "      <td>AFC</td>\n",
       "      <td>North</td>\n",
       "    </tr>\n",
       "    <tr>\n",
       "      <th>2</th>\n",
       "      <td>5</td>\n",
       "      <td>4</td>\n",
       "      <td>Baltimore Ravens</td>\n",
       "      <td>5</td>\n",
       "      <td>138</td>\n",
       "      <td>1762</td>\n",
       "      <td>291</td>\n",
       "      <td>6.1</td>\n",
       "      <td>6</td>\n",
       "      <td>1</td>\n",
       "      <td>99</td>\n",
       "      <td>95</td>\n",
       "      <td>149</td>\n",
       "      <td>1039</td>\n",
       "      <td>12</td>\n",
       "      <td>5</td>\n",
       "      <td>6.6</td>\n",
       "      <td>46</td>\n",
       "      <td>133</td>\n",
       "      <td>723</td>\n",
       "      <td>3</td>\n",
       "      <td>5.4</td>\n",
       "      <td>44</td>\n",
       "      <td>23</td>\n",
       "      <td>162</td>\n",
       "      <td>9</td>\n",
       "      <td>43.6</td>\n",
       "      <td>10.9</td>\n",
       "      <td>36.86</td>\n",
       "      <td>BAL</td>\n",
       "      <td>AFC</td>\n",
       "      <td>North</td>\n",
       "    </tr>\n",
       "    <tr>\n",
       "      <th>3</th>\n",
       "      <td>6</td>\n",
       "      <td>4</td>\n",
       "      <td>Baltimore Ravens</td>\n",
       "      <td>6</td>\n",
       "      <td>158</td>\n",
       "      <td>2168</td>\n",
       "      <td>349</td>\n",
       "      <td>6.2</td>\n",
       "      <td>8</td>\n",
       "      <td>2</td>\n",
       "      <td>122</td>\n",
       "      <td>112</td>\n",
       "      <td>181</td>\n",
       "      <td>1234</td>\n",
       "      <td>13</td>\n",
       "      <td>6</td>\n",
       "      <td>6.4</td>\n",
       "      <td>59</td>\n",
       "      <td>157</td>\n",
       "      <td>934</td>\n",
       "      <td>4</td>\n",
       "      <td>5.9</td>\n",
       "      <td>54</td>\n",
       "      <td>33</td>\n",
       "      <td>236</td>\n",
       "      <td>9</td>\n",
       "      <td>43.8</td>\n",
       "      <td>12.5</td>\n",
       "      <td>42.86</td>\n",
       "      <td>BAL</td>\n",
       "      <td>AFC</td>\n",
       "      <td>North</td>\n",
       "    </tr>\n",
       "    <tr>\n",
       "      <th>4</th>\n",
       "      <td>7</td>\n",
       "      <td>3</td>\n",
       "      <td>Baltimore Ravens</td>\n",
       "      <td>7</td>\n",
       "      <td>181</td>\n",
       "      <td>2422</td>\n",
       "      <td>412</td>\n",
       "      <td>5.9</td>\n",
       "      <td>9</td>\n",
       "      <td>3</td>\n",
       "      <td>139</td>\n",
       "      <td>121</td>\n",
       "      <td>197</td>\n",
       "      <td>1328</td>\n",
       "      <td>13</td>\n",
       "      <td>6</td>\n",
       "      <td>6.3</td>\n",
       "      <td>64</td>\n",
       "      <td>201</td>\n",
       "      <td>1094</td>\n",
       "      <td>6</td>\n",
       "      <td>5.4</td>\n",
       "      <td>65</td>\n",
       "      <td>36</td>\n",
       "      <td>289</td>\n",
       "      <td>10</td>\n",
       "      <td>44.6</td>\n",
       "      <td>12.2</td>\n",
       "      <td>44.44</td>\n",
       "      <td>BAL</td>\n",
       "      <td>AFC</td>\n",
       "      <td>North</td>\n",
       "    </tr>\n",
       "  </tbody>\n",
       "</table>\n",
       "</div>"
      ],
      "text/plain": [
       "   week  rank              team  games  points_scored  total_yards  \\\n",
       "0     3     1  Baltimore Ravens      3             99         1141   \n",
       "1     4     3  Baltimore Ravens      4            119         1437   \n",
       "2     5     4  Baltimore Ravens      5            138         1762   \n",
       "3     6     4  Baltimore Ravens      6            158         2168   \n",
       "4     7     3  Baltimore Ravens      7            181         2422   \n",
       "\n",
       "   offensive_plays  yards_per_play  turnovers_lost  fumbles_lost  1st_downs  \\\n",
       "0              166             6.9               3             1         55   \n",
       "1              230             6.2               5             1         77   \n",
       "2              291             6.1               6             1         99   \n",
       "3              349             6.2               8             2        122   \n",
       "4              412             5.9               9             3        139   \n",
       "\n",
       "   passes_completed  passes_attempted  passing_yards  passing_touchdowns  \\\n",
       "0                56                88            735                  10   \n",
       "1                76               117            869                  11   \n",
       "2                95               149           1039                  12   \n",
       "3               112               181           1234                  13   \n",
       "4               121               197           1328                  13   \n",
       "\n",
       "   passing_interceptions  net_yards_per_pass_attempt  passing_1st_downs  \\\n",
       "0                      2                         7.8                 32   \n",
       "1                      4                         7.0                 39   \n",
       "2                      5                         6.6                 46   \n",
       "3                      6                         6.4                 59   \n",
       "4                      6                         6.3                 64   \n",
       "\n",
       "   rushing_attempts  rushing_yards  rushing_touchdowns  \\\n",
       "0                72            406                   2   \n",
       "1               105            568                   3   \n",
       "2               133            723                   3   \n",
       "3               157            934                   4   \n",
       "4               201           1094                   6   \n",
       "\n",
       "   rushing_yards_per_attempt  rushing_1st_downs  penalties  penalty_yards  \\\n",
       "0                        5.6                 18          8             44   \n",
       "1                        5.4                 31         17            114   \n",
       "2                        5.4                 44         23            162   \n",
       "3                        5.9                 54         33            236   \n",
       "4                        5.4                 65         36            289   \n",
       "\n",
       "   1st_down_penalties  percentage_scoring_drives  percentage_turnover_drives  \\\n",
       "0                   5                       42.9                         8.6   \n",
       "1                   7                       42.2                        11.1   \n",
       "2                   9                       43.6                        10.9   \n",
       "3                   9                       43.8                        12.5   \n",
       "4                  10                       44.6                        12.2   \n",
       "\n",
       "   expected_points Abbreviation Conference Division  \n",
       "0            35.63          BAL        AFC    North  \n",
       "1            32.97          BAL        AFC    North  \n",
       "2            36.86          BAL        AFC    North  \n",
       "3            42.86          BAL        AFC    North  \n",
       "4            44.44          BAL        AFC    North  "
      ]
     },
     "execution_count": 167,
     "metadata": {},
     "output_type": "execute_result"
    }
   ],
   "source": [
    "df = pd.merge(weeks, nfl, on=\"team\")\n",
    "df.head()"
   ]
  },
  {
   "cell_type": "code",
   "execution_count": 168,
   "metadata": {},
   "outputs": [
    {
     "data": {
      "text/html": [
       "<div>\n",
       "<style scoped>\n",
       "    .dataframe tbody tr th:only-of-type {\n",
       "        vertical-align: middle;\n",
       "    }\n",
       "\n",
       "    .dataframe tbody tr th {\n",
       "        vertical-align: top;\n",
       "    }\n",
       "\n",
       "    .dataframe thead th {\n",
       "        text-align: right;\n",
       "    }\n",
       "</style>\n",
       "<table border=\"1\" class=\"dataframe\">\n",
       "  <thead>\n",
       "    <tr style=\"text-align: right;\">\n",
       "      <th></th>\n",
       "      <th>team_abbr</th>\n",
       "      <th>team</th>\n",
       "      <th>team_id</th>\n",
       "      <th>team_nick</th>\n",
       "      <th>team_conf</th>\n",
       "      <th>team_division</th>\n",
       "      <th>team_color</th>\n",
       "      <th>team_color2</th>\n",
       "      <th>team_color3</th>\n",
       "      <th>team_color4</th>\n",
       "      <th>team_logo_wikipedia</th>\n",
       "      <th>team_logo_espn</th>\n",
       "      <th>team_wordmark</th>\n",
       "      <th>team_conference_logo</th>\n",
       "      <th>team_league_logo</th>\n",
       "      <th>team_logo_squared</th>\n",
       "    </tr>\n",
       "  </thead>\n",
       "  <tbody>\n",
       "    <tr>\n",
       "      <th>0</th>\n",
       "      <td>ARI</td>\n",
       "      <td>Arizona Cardinals</td>\n",
       "      <td>3800</td>\n",
       "      <td>Cardinals</td>\n",
       "      <td>NFC</td>\n",
       "      <td>NFC West</td>\n",
       "      <td>#97233F</td>\n",
       "      <td>#000000</td>\n",
       "      <td>#ffb612</td>\n",
       "      <td>#a5acaf</td>\n",
       "      <td>https://upload.wikimedia.org/wikipedia/en/thum...</td>\n",
       "      <td>https://a.espncdn.com/i/teamlogos/nfl/500/ari.png</td>\n",
       "      <td>https://github.com/nflverse/nflverse-pbp/raw/m...</td>\n",
       "      <td>https://github.com/nflverse/nflverse-pbp/raw/m...</td>\n",
       "      <td>https://raw.githubusercontent.com/nflverse/nfl...</td>\n",
       "      <td>https://github.com/nflverse/nflverse-pbp/raw/m...</td>\n",
       "    </tr>\n",
       "    <tr>\n",
       "      <th>1</th>\n",
       "      <td>ATL</td>\n",
       "      <td>Atlanta Falcons</td>\n",
       "      <td>200</td>\n",
       "      <td>Falcons</td>\n",
       "      <td>NFC</td>\n",
       "      <td>NFC South</td>\n",
       "      <td>#A71930</td>\n",
       "      <td>#000000</td>\n",
       "      <td>#a5acaf</td>\n",
       "      <td>#a30d2d</td>\n",
       "      <td>https://upload.wikimedia.org/wikipedia/en/thum...</td>\n",
       "      <td>https://a.espncdn.com/i/teamlogos/nfl/500/atl.png</td>\n",
       "      <td>https://github.com/nflverse/nflverse-pbp/raw/m...</td>\n",
       "      <td>https://github.com/nflverse/nflverse-pbp/raw/m...</td>\n",
       "      <td>https://raw.githubusercontent.com/nflverse/nfl...</td>\n",
       "      <td>https://github.com/nflverse/nflverse-pbp/raw/m...</td>\n",
       "    </tr>\n",
       "    <tr>\n",
       "      <th>2</th>\n",
       "      <td>BAL</td>\n",
       "      <td>Baltimore Ravens</td>\n",
       "      <td>325</td>\n",
       "      <td>Ravens</td>\n",
       "      <td>AFC</td>\n",
       "      <td>AFC North</td>\n",
       "      <td>#241773</td>\n",
       "      <td>#9E7C0C</td>\n",
       "      <td>#9e7c0c</td>\n",
       "      <td>#c60c30</td>\n",
       "      <td>https://upload.wikimedia.org/wikipedia/en/thum...</td>\n",
       "      <td>https://a.espncdn.com/i/teamlogos/nfl/500/bal.png</td>\n",
       "      <td>https://github.com/nflverse/nflverse-pbp/raw/m...</td>\n",
       "      <td>https://github.com/nflverse/nflverse-pbp/raw/m...</td>\n",
       "      <td>https://raw.githubusercontent.com/nflverse/nfl...</td>\n",
       "      <td>https://github.com/nflverse/nflverse-pbp/raw/m...</td>\n",
       "    </tr>\n",
       "    <tr>\n",
       "      <th>3</th>\n",
       "      <td>BUF</td>\n",
       "      <td>Buffalo Bills</td>\n",
       "      <td>610</td>\n",
       "      <td>Bills</td>\n",
       "      <td>AFC</td>\n",
       "      <td>AFC East</td>\n",
       "      <td>#00338D</td>\n",
       "      <td>#C60C30</td>\n",
       "      <td>#0c2e82</td>\n",
       "      <td>#d50a0a</td>\n",
       "      <td>https://upload.wikimedia.org/wikipedia/en/thum...</td>\n",
       "      <td>https://a.espncdn.com/i/teamlogos/nfl/500/buf.png</td>\n",
       "      <td>https://github.com/nflverse/nflverse-pbp/raw/m...</td>\n",
       "      <td>https://github.com/nflverse/nflverse-pbp/raw/m...</td>\n",
       "      <td>https://raw.githubusercontent.com/nflverse/nfl...</td>\n",
       "      <td>https://github.com/nflverse/nflverse-pbp/raw/m...</td>\n",
       "    </tr>\n",
       "    <tr>\n",
       "      <th>4</th>\n",
       "      <td>CAR</td>\n",
       "      <td>Carolina Panthers</td>\n",
       "      <td>750</td>\n",
       "      <td>Panthers</td>\n",
       "      <td>NFC</td>\n",
       "      <td>NFC South</td>\n",
       "      <td>#0085CA</td>\n",
       "      <td>#000000</td>\n",
       "      <td>#bfc0bf</td>\n",
       "      <td>#0085ca</td>\n",
       "      <td>https://upload.wikimedia.org/wikipedia/en/thum...</td>\n",
       "      <td>https://a.espncdn.com/i/teamlogos/nfl/500-dark...</td>\n",
       "      <td>https://github.com/nflverse/nflverse-pbp/raw/m...</td>\n",
       "      <td>https://github.com/nflverse/nflverse-pbp/raw/m...</td>\n",
       "      <td>https://raw.githubusercontent.com/nflverse/nfl...</td>\n",
       "      <td>https://github.com/nflverse/nflverse-pbp/raw/m...</td>\n",
       "    </tr>\n",
       "  </tbody>\n",
       "</table>\n",
       "</div>"
      ],
      "text/plain": [
       "  team_abbr               team  team_id  team_nick team_conf team_division  \\\n",
       "0       ARI  Arizona Cardinals     3800  Cardinals       NFC      NFC West   \n",
       "1       ATL    Atlanta Falcons      200    Falcons       NFC     NFC South   \n",
       "2       BAL   Baltimore Ravens      325     Ravens       AFC     AFC North   \n",
       "3       BUF      Buffalo Bills      610      Bills       AFC      AFC East   \n",
       "4       CAR  Carolina Panthers      750   Panthers       NFC     NFC South   \n",
       "\n",
       "  team_color team_color2 team_color3 team_color4  \\\n",
       "0    #97233F     #000000     #ffb612     #a5acaf   \n",
       "1    #A71930     #000000     #a5acaf     #a30d2d   \n",
       "2    #241773     #9E7C0C     #9e7c0c     #c60c30   \n",
       "3    #00338D     #C60C30     #0c2e82     #d50a0a   \n",
       "4    #0085CA     #000000     #bfc0bf     #0085ca   \n",
       "\n",
       "                                 team_logo_wikipedia  \\\n",
       "0  https://upload.wikimedia.org/wikipedia/en/thum...   \n",
       "1  https://upload.wikimedia.org/wikipedia/en/thum...   \n",
       "2  https://upload.wikimedia.org/wikipedia/en/thum...   \n",
       "3  https://upload.wikimedia.org/wikipedia/en/thum...   \n",
       "4  https://upload.wikimedia.org/wikipedia/en/thum...   \n",
       "\n",
       "                                      team_logo_espn  \\\n",
       "0  https://a.espncdn.com/i/teamlogos/nfl/500/ari.png   \n",
       "1  https://a.espncdn.com/i/teamlogos/nfl/500/atl.png   \n",
       "2  https://a.espncdn.com/i/teamlogos/nfl/500/bal.png   \n",
       "3  https://a.espncdn.com/i/teamlogos/nfl/500/buf.png   \n",
       "4  https://a.espncdn.com/i/teamlogos/nfl/500-dark...   \n",
       "\n",
       "                                       team_wordmark  \\\n",
       "0  https://github.com/nflverse/nflverse-pbp/raw/m...   \n",
       "1  https://github.com/nflverse/nflverse-pbp/raw/m...   \n",
       "2  https://github.com/nflverse/nflverse-pbp/raw/m...   \n",
       "3  https://github.com/nflverse/nflverse-pbp/raw/m...   \n",
       "4  https://github.com/nflverse/nflverse-pbp/raw/m...   \n",
       "\n",
       "                                team_conference_logo  \\\n",
       "0  https://github.com/nflverse/nflverse-pbp/raw/m...   \n",
       "1  https://github.com/nflverse/nflverse-pbp/raw/m...   \n",
       "2  https://github.com/nflverse/nflverse-pbp/raw/m...   \n",
       "3  https://github.com/nflverse/nflverse-pbp/raw/m...   \n",
       "4  https://github.com/nflverse/nflverse-pbp/raw/m...   \n",
       "\n",
       "                                    team_league_logo  \\\n",
       "0  https://raw.githubusercontent.com/nflverse/nfl...   \n",
       "1  https://raw.githubusercontent.com/nflverse/nfl...   \n",
       "2  https://raw.githubusercontent.com/nflverse/nfl...   \n",
       "3  https://raw.githubusercontent.com/nflverse/nfl...   \n",
       "4  https://raw.githubusercontent.com/nflverse/nfl...   \n",
       "\n",
       "                                   team_logo_squared  \n",
       "0  https://github.com/nflverse/nflverse-pbp/raw/m...  \n",
       "1  https://github.com/nflverse/nflverse-pbp/raw/m...  \n",
       "2  https://github.com/nflverse/nflverse-pbp/raw/m...  \n",
       "3  https://github.com/nflverse/nflverse-pbp/raw/m...  \n",
       "4  https://github.com/nflverse/nflverse-pbp/raw/m...  "
      ]
     },
     "execution_count": 168,
     "metadata": {},
     "output_type": "execute_result"
    }
   ],
   "source": [
    "colors = pd.read_csv(\"teams_colors_logos.csv\")\n",
    "colors.head()"
   ]
  },
  {
   "cell_type": "markdown",
   "metadata": {},
   "source": [
    "2. Plot the average number of points scored each week for each team on a horizontal bar chart (with teams on the vertical axis and points on the horizontal axis). Add the points scored for each bar. (Hint: check out `plt.bar_label()`)"
   ]
  },
  {
   "cell_type": "code",
   "execution_count": 186,
   "metadata": {},
   "outputs": [
    {
     "data": {
      "image/png": "[encoded data removed]",
      "text/plain": [
       "<Figure size 648x1080 with 1 Axes>"
      ]
     },
     "metadata": {},
     "output_type": "display_data"
    }
   ],
   "source": [
    "weeks = df.groupby(df.week).mean()\n",
    "f, ax = plt.subplots(figsize=(9, 15))\n",
    "sns.barplot(x='points_scored', y='Abbreviation', data=df, orient='h', ci=None);\n",
    "plt.xlabel(\"Points Scored\")\n",
    "plt.ylabel('Teams')\n",
    "plt.title('Average Points per Week')\n",
    "# label each bar in barplot\n",
    "for p in ax.patches:\n",
    " height = p.get_height() # height of each horizontal bar is the same\n",
    " width = p.get_width() # width (average number of passengers)\n",
    " # adding text to each bar\n",
    " ax.text(x = width+3, # x-coordinate position of data label, padded 3 to right of bar\n",
    " y = p.get_y()+(height/2), # # y-coordinate position of data label, padded to be in the middle of the bar\n",
    " s = '{:.0f}'.format(width), # data label, formatted to ignore decimals\n",
    " va = 'center') # sets vertical alignment (va) to center"
   ]
  },
  {
   "cell_type": "markdown",
   "metadata": {},
   "source": [
    "3. Plot the average passing yards and average rushing yards for each team as a stacked bar chart."
   ]
  },
  {
   "cell_type": "code",
   "execution_count": 183,
   "metadata": {},
   "outputs": [
    {
     "data": {
      "text/plain": [
       "Text(0.5, 1.0, 'Average Passing and Rushing Yards')"
      ]
     },
     "execution_count": 183,
     "metadata": {},
     "output_type": "execute_result"
    },
    {
     "data": {
      "image/png": "[encoded data removed]",
      "text/plain": [
       "<Figure size 1080x432 with 1 Axes>"
      ]
     },
     "metadata": {},
     "output_type": "display_data"
    }
   ],
   "source": [
    "plt.figure(figsize=(15, 6))\n",
    "\n",
    "sns.barplot( data = df, x = df.Abbreviation, y = df.rushing_yards, estimator = np.sum, ci=None, color = 'red');\n",
    "sns.barplot( data = df, x = df.Abbreviation, y = df.passing_yards, ci=None, color = 'blue');\n",
    "\n",
    "top = mp.Patch(color='red', label='Rushing Yards')\n",
    "bottom = mp.Patch(color='blue', label='Passing Yards')\n",
    "plt.title(\"Average Passing and Rushing Yards\")\n",
    "# sns.barplot(x='Abbreviation', y='total_yards', data=df.passing_yards)\n",
    "# sns.barplot(x='Abbreviation', y='total_yards', data=df.rushing_yards, bottom=(df.passing_yards))\n"
   ]
  },
  {
   "cell_type": "markdown",
   "metadata": {},
   "source": [
    "4. Plot the average total yards vs average first downs for each team on a scatter plot (with first downs on the x axis and total yards on the y axis)."
   ]
  },
  {
   "cell_type": "code",
   "execution_count": 171,
   "metadata": {},
   "outputs": [
    {
     "data": {
      "text/plain": [
       "Index(['week', 'rank', 'team', 'games', 'points_scored', 'total_yards',\n",
       "       'offensive_plays', 'yards_per_play', 'turnovers_lost', 'fumbles_lost',\n",
       "       'first_downs', 'passes_completed', 'passes_attempted', 'passing_yards',\n",
       "       'passing_touchdowns', 'passing_interceptions',\n",
       "       'net_yards_per_pass_attempt', 'passing_1st_downs', 'rushing_attempts',\n",
       "       'rushing_yards', 'rushing_touchdowns', 'rushing_yards_per_attempt',\n",
       "       'rushing_1st_downs', 'penalties', 'penalty_yards', '1st_down_penalties',\n",
       "       'percentage_scoring_drives', 'percentage_turnover_drives',\n",
       "       'expected_points', 'Abbreviation', 'Conference', 'Division'],\n",
       "      dtype='object')"
      ]
     },
     "execution_count": 171,
     "metadata": {},
     "output_type": "execute_result"
    }
   ],
   "source": [
    "df.rename( columns={'1st_downs': 'first_downs'}, inplace=True )\n",
    "df.columns"
   ]
  },
  {
   "cell_type": "code",
   "execution_count": 187,
   "metadata": {},
   "outputs": [
    {
     "data": {
      "image/png": "[encoded data removed]",
      "text/plain": [
       "<Figure size 432x288 with 1 Axes>"
      ]
     },
     "metadata": {},
     "output_type": "display_data"
    }
   ],
   "source": [
    "sns.scatterplot(x=df.first_downs, y=df.total_yards);"
   ]
  },
  {
   "cell_type": "markdown",
   "metadata": {},
   "source": [
    "5. Plot the penalty yards for the Balitmore Ravens and the LA Rams for each week as a line chart (with week on the x-axis and penalty yards on the y-axis)."
   ]
  },
  {
   "cell_type": "code",
   "execution_count": 173,
   "metadata": {},
   "outputs": [
    {
     "data": {
      "image/png": "[encoded data removed]",
      "text/plain": [
       "<Figure size 432x288 with 1 Axes>"
      ]
     },
     "metadata": {},
     "output_type": "display_data"
    }
   ],
   "source": [
    "ravens = df[ df.team == \"Baltimore Ravens\" ]\n",
    "rams = df[ df.team == \"Los Angeles Rams\" ]\n",
    "sns.lineplot(x= df.week, y= ravens.penalty_yards);\n",
    "sns.lineplot(x= df.week, y= rams.penalty_yards);"
   ]
  },
  {
   "cell_type": "markdown",
   "metadata": {},
   "source": [
    "6. Plot the average total points vs average yards per play for each team as a scatter plot (with total points on the y-axis and yards per play on the x-axis)."
   ]
  },
  {
   "cell_type": "code",
   "execution_count": 174,
   "metadata": {},
   "outputs": [
    {
     "data": {
      "image/png": "[encoded data removed]",
      "text/plain": [
       "<Figure size 432x288 with 1 Axes>"
      ]
     },
     "metadata": {},
     "output_type": "display_data"
    }
   ],
   "source": [
    "sns.scatterplot(x=df.points_scored, y=df.yards_per_play);"
   ]
  },
  {
   "cell_type": "markdown",
   "metadata": {},
   "source": [
    "7. Plot the number of penalty yards for each team in the NFC West for each week on bar chart."
   ]
  },
  {
   "cell_type": "code",
   "execution_count": 175,
   "metadata": {},
   "outputs": [
    {
     "data": {
      "text/plain": [
       "Text(0.5, 1.0, 'Penalty Yards for the NFC WEST')"
      ]
     },
     "execution_count": 175,
     "metadata": {},
     "output_type": "execute_result"
    },
    {
     "data": {
      "image/png": "[encoded data removed]",
      "text/plain": [
       "<Figure size 432x288 with 1 Axes>"
      ]
     },
     "metadata": {},
     "output_type": "display_data"
    }
   ],
   "source": [
    "nfc_west = df[ (df.Conference == \"NFC\") & (df.Division == \"West\")]\n",
    "sns.barplot(x='Abbreviation', y='penalty_yards', data=nfc_west, ci=None);\n",
    "plt.xlabel(\"Team\")\n",
    "plt.ylabel(\"Penalty Yards\")\n",
    "plt.title(\"Penalty Yards for the NFC WEST\")\n"
   ]
  },
  {
   "cell_type": "markdown",
   "metadata": {},
   "source": [
    "8. Plot the average number of weekly points per (conference and division) on a horizontal bar chart. (There will be 8 bars.)"
   ]
  },
  {
   "cell_type": "code",
   "execution_count": 176,
   "metadata": {},
   "outputs": [
    {
     "data": {
      "text/plain": [
       "<AxesSubplot:xlabel='points_scored'>"
      ]
     },
     "execution_count": 176,
     "metadata": {},
     "output_type": "execute_result"
    },
    {
     "data": {
      "image/png": "[encoded data removed]",
      "text/plain": [
       "<Figure size 864x864 with 1 Axes>"
      ]
     },
     "metadata": {},
     "output_type": "display_data"
    }
   ],
   "source": [
    "condiv = [' '.join(i) for i in zip(df[\"Conference\"].map(str),df[\"Division\"])]\n",
    "f, ax = plt.subplots(figsize=(12, 12))\n",
    "sns.barplot(\n",
    "    x = df.points_scored,\n",
    "    y = condiv,\n",
    "    ci=None\n",
    ")"
   ]
  }
 ],
 "metadata": {
  "kernelspec": {
   "display_name": "Python 3.9.12 ('base')",
   "language": "python",
   "name": "python3"
  },
  "language_info": {
   "codemirror_mode": {
    "name": "ipython",
    "version": 3
   },
   "file_extension": ".py",
   "mimetype": "text/x-python",
   "name": "python",
   "nbconvert_exporter": "python",
   "pygments_lexer": "ipython3",
   "version": "3.9.12"
  },
  "orig_nbformat": 4,
  "vscode": {
   "interpreter": {
    "hash": "584887bf406a569d2f596ef98099ec06ee5378c6fabdffb8a18b5e468f597304"
   }
  }
 },
 "nbformat": 4,
 "nbformat_minor": 2
}
